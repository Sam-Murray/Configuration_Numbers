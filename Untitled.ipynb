{
 "cells": [
  {
   "cell_type": "code",
   "execution_count": 1,
   "metadata": {},
   "outputs": [],
   "source": [
    "import numpy as np\n",
    "import itertools"
   ]
  },
  {
   "cell_type": "code",
   "execution_count": 2,
   "metadata": {},
   "outputs": [],
   "source": [
    "def is_configuration(a):\n",
    "    b=np.sum(a, axis=0)\n",
    "    c=np.sum(a, axis=1)\n",
    "    \n",
    "    b= b >= 1\n",
    "    b= np.all(b)\n",
    "    c= c >= 1\n",
    "    c= np.all(c)\n",
    "    return c and b;"
   ]
  },
  {
   "cell_type": "code",
   "execution_count": 3,
   "metadata": {},
   "outputs": [],
   "source": [
    "def generate_matrix_from_bin(b, mat_size, mat_shape):\n",
    "    test_matrix=np.fromstring(b, dtype=np.uint8)\n",
    "    test_matrix=test_matrix[2:]\n",
    "    test_matrix=np.subtract(test_matrix, 48)\n",
    "    test_matrix=np.concatenate((np.zeros(mat_size-len(test_matrix)), test_matrix),axis=None)\n",
    "    test_matrix=test_matrix.reshape(mat_shape)\n",
    "    return test_matr ix\n",
    "    "
   ]
  },
  {
   "cell_type": "code",
   "execution_count": 4,
   "metadata": {},
   "outputs": [],
   "source": [
    "def generate_matrix_from_list(combo, mat_list, mat_shape):\n",
    "    result= np.zeros(mat_shape)\n",
    "    for i in combo:\n",
    "        result = result + mat_list[i]\n",
    "    return result"
   ]
  },
  {
   "cell_type": "code",
   "execution_count": 5,
   "metadata": {},
   "outputs": [],
   "source": [
    "def get_configuration_number(mat, mat_shape):\n",
    "    count = 0\n",
    "    num_ones= int(np.sum(mat))\n",
    "    ind = np.transpose(np.nonzero(mat))\n",
    "    decomp=list()\n",
    "    min_dim = min(mat_shape)\n",
    "    \n",
    "    for i in range(num_ones):\n",
    "        temp = np.zeros(mat_shape)\n",
    "        temp[tuple(ind[i])] = 1\n",
    "        decomp.append(temp)\n",
    "    \n",
    "    \n",
    "    for i in range(min_dim, num_ones+1):\n",
    "        combos = itertools.combinations(range(num_ones), i)\n",
    "        for combo in combos:\n",
    "            test_mat = generate_matrix_from_list(combo, decomp, mat_shape)\n",
    "            if(is_configuration(test_mat)):\n",
    "                count = count + 1\n",
    "    return count\n",
    "\n"
   ]
  },
  {
   "cell_type": "code",
   "execution_count": 32,
   "metadata": {},
   "outputs": [],
   "source": [
    "def get_configs_of_shape(mat_shape, target_configs):\n",
    "    mat_size = np.prod(mat_shape)\n",
    "    for i in range(pow(2,mat_size)):\n",
    "        mat = generate_matrix_from_bin(bin(i), mat_size, mat_shape)\n",
    "        \n",
    "        config=get_configuration_number(mat, mat_shape)\n",
    "        \n",
    "        if(config in target_configs):\n",
    "            np.save(str(config)+\".npy\", mat)\n",
    "    return"
   ]
  },
  {
   "cell_type": "code",
   "execution_count": 33,
   "metadata": {},
   "outputs": [
    {
     "name": "stderr",
     "output_type": "stream",
     "text": [
      "/Users/sam/anaconda3/lib/python3.6/site-packages/ipykernel_launcher.py:2: DeprecationWarning: The binary mode of fromstring is deprecated, as it behaves surprisingly on unicode inputs. Use frombuffer instead\n",
      "  \n"
     ]
    }
   ],
   "source": [
    "get_configs_of_shape((3,3),[18])\n"
   ]
  },
  {
   "cell_type": "code",
   "execution_count": 34,
   "metadata": {},
   "outputs": [
    {
     "name": "stdout",
     "output_type": "stream",
     "text": [
      "[[1. 1. 0.]\n",
      " [1. 0. 1.]\n",
      " [0. 1. 1.]]\n",
      "18\n"
     ]
    }
   ],
   "source": [
    "x = np.load(\"18.npy\")\n",
    "print(x)\n",
    "print(get_configuration_number(x, (3,3)))"
   ]
  },
  {
   "cell_type": "code",
   "execution_count": 12,
   "metadata": {},
   "outputs": [
    {
     "name": "stdout",
     "output_type": "stream",
     "text": [
      "(1, 1)\n",
      "0\n",
      "1\n",
      "dict_keys([0, 1])\n",
      "(1, 2)\n",
      "0\n",
      "1\n",
      "dict_keys([0, 1])\n",
      "(1, 3)\n",
      "0\n",
      "1\n",
      "dict_keys([0, 1])\n",
      "(1, 4)\n",
      "0\n",
      "1\n",
      "dict_keys([0, 1])\n",
      "(2, 2)\n",
      "0\n",
      "1\n",
      "2\n",
      "7\n",
      "dict_keys([0, 1, 2, 7])\n",
      "(2, 3)\n",
      "0\n",
      "1\n",
      "2\n",
      "3\n",
      "8\n",
      "25\n",
      "dict_keys([0, 1, 2, 3, 8, 25])\n",
      "(2, 4)\n",
      "0\n",
      "1\n",
      "2\n",
      "3\n",
      "8\n",
      "9\n",
      "26\n"
     ]
    },
    {
     "name": "stderr",
     "output_type": "stream",
     "text": [
      "/Users/sam/anaconda3/lib/python3.6/site-packages/ipykernel_launcher.py:2: DeprecationWarning: The binary mode of fromstring is deprecated, as it behaves surprisingly on unicode inputs. Use frombuffer instead\n",
      "  \n"
     ]
    },
    {
     "name": "stdout",
     "output_type": "stream",
     "text": [
      "79\n",
      "dict_keys([0, 1, 2, 3, 8, 9, 26, 79])\n",
      "(3, 3)\n",
      "0\n",
      "1\n",
      "2\n",
      "4\n",
      "5\n",
      "10\n",
      "7\n",
      "15\n",
      "32\n",
      "18\n",
      "43\n",
      "104\n",
      "265\n",
      "dict_keys([0, 1, 2, 4, 5, 10, 7, 15, 32, 18, 43, 104, 265])\n",
      "(3, 4)\n",
      "0\n",
      "1\n",
      "2\n",
      "4\n",
      "5\n",
      "10\n",
      "3\n",
      "6\n",
      "8\n",
      "16\n",
      "12\n",
      "17\n",
      "34\n",
      "25\n",
      "51\n",
      "104\n",
      "7\n",
      "15\n",
      "32\n",
      "18\n",
      "21\n",
      "46\n",
      "40\n",
      "23\n",
      "112\n",
      "63\n",
      "57\n",
      "66\n",
      "151\n",
      "344\n",
      "129\n",
      "290\n",
      "162\n",
      "379\n",
      "896\n",
      "2161\n",
      "dict_keys([0, 1, 2, 4, 5, 10, 3, 6, 8, 16, 12, 17, 34, 25, 51, 104, 7, 15, 32, 18, 21, 46, 40, 23, 112, 63, 57, 66, 151, 344, 129, 290, 162, 379, 896, 2161])\n",
      "(4, 4)\n",
      "0\n",
      "1\n",
      "2\n",
      "4\n",
      "5\n",
      "10\n",
      "3\n",
      "6\n",
      "8\n",
      "16\n",
      "12\n",
      "17\n",
      "34\n",
      "25\n",
      "51\n",
      "104\n",
      "20\n",
      "11\n",
      "22\n",
      "44\n",
      "7\n",
      "15\n",
      "31\n",
      "32\n",
      "66\n",
      "136\n",
      "50\n",
      "13\n",
      "26\n",
      "28\n",
      "56\n",
      "61\n",
      "122\n",
      "14\n",
      "30\n",
      "38\n",
      "78\n",
      "64\n",
      "81\n",
      "166\n",
      "89\n",
      "183\n",
      "376\n",
      "33\n",
      "72\n",
      "144\n",
      "18\n",
      "39\n",
      "43\n",
      "84\n",
      "94\n",
      "194\n",
      "216\n",
      "448\n",
      "161\n",
      "322\n",
      "180\n",
      "205\n",
      "422\n",
      "233\n",
      "483\n",
      "1000\n",
      "265\n",
      "555\n",
      "1161\n",
      "2426\n",
      "49\n",
      "113\n",
      "249\n",
      "258\n",
      "547\n",
      "1160\n",
      "110\n",
      "235\n",
      "47\n",
      "112\n",
      "252\n",
      "267\n",
      "572\n",
      "273\n",
      "611\n",
      "1312\n",
      "277\n",
      "633\n",
      "666\n",
      "1439\n",
      "3112\n",
      "1473\n",
      "684\n",
      "1489\n",
      "1578\n",
      "3451\n",
      "7568\n",
      "1699\n",
      "3740\n",
      "8281\n",
      "18458\n",
      "41503\n",
      "dict_keys([0, 1, 2, 4, 5, 10, 3, 6, 8, 16, 12, 17, 34, 25, 51, 104, 20, 11, 22, 44, 7, 15, 31, 32, 66, 136, 50, 13, 26, 28, 56, 61, 122, 14, 30, 38, 78, 64, 81, 166, 89, 183, 376, 33, 72, 144, 18, 39, 43, 84, 94, 194, 216, 448, 161, 322, 180, 205, 422, 233, 483, 1000, 265, 555, 1161, 2426, 49, 113, 249, 258, 547, 1160, 110, 235, 47, 112, 252, 267, 572, 273, 611, 1312, 277, 633, 666, 1439, 3112, 1473, 684, 1489, 1578, 3451, 7568, 1699, 3740, 8281, 18458, 41503])\n"
     ]
    }
   ],
   "source": [
    "x=itertools.combinations_with_replacement(range(1,5), 2)\n",
    "output = dict()\n",
    "for i in x:\n",
    "    print(i)\n",
    "    cons = get_configs_of_shape(i)\n",
    "    output[i] = cons\n",
    "    print(cons.keys())"
   ]
  },
  {
   "cell_type": "code",
   "execution_count": 13,
   "metadata": {},
   "outputs": [
    {
     "name": "stderr",
     "output_type": "stream",
     "text": [
      "/Users/sam/anaconda3/lib/python3.6/site-packages/ipykernel_launcher.py:2: DeprecationWarning: The binary mode of fromstring is deprecated, as it behaves surprisingly on unicode inputs. Use frombuffer instead\n",
      "  \n"
     ]
    },
    {
     "name": "stdout",
     "output_type": "stream",
     "text": [
      "0\n",
      "1\n",
      "2\n",
      "4\n",
      "5\n",
      "10\n",
      "3\n",
      "6\n",
      "8\n",
      "16\n",
      "12\n",
      "17\n",
      "34\n",
      "25\n",
      "51\n",
      "104\n",
      "7\n",
      "15\n",
      "32\n",
      "18\n",
      "21\n",
      "46\n",
      "40\n",
      "23\n",
      "112\n",
      "63\n",
      "57\n",
      "66\n",
      "151\n",
      "344\n",
      "129\n",
      "290\n",
      "162\n",
      "379\n",
      "896\n",
      "2161\n"
     ]
    }
   ],
   "source": [
    "cons = get_configs_of_shape((3,4))"
   ]
  },
  {
   "cell_type": "code",
   "execution_count": 14,
   "metadata": {},
   "outputs": [
    {
     "data": {
      "text/plain": [
       "array([[0., 0., 1., 1.],\n",
       "       [0., 1., 1., 1.],\n",
       "       [1., 1., 0., 0.]])"
      ]
     },
     "execution_count": 14,
     "metadata": {},
     "output_type": "execute_result"
    }
   ],
   "source": [
    "cons[23]"
   ]
  },
  {
   "cell_type": "code",
   "execution_count": 15,
   "metadata": {},
   "outputs": [
    {
     "data": {
      "text/plain": [
       "array([[0., 0., 0., 1.],\n",
       "       [0., 1., 1., 1.],\n",
       "       [1., 1., 1., 0.]])"
      ]
     },
     "execution_count": 15,
     "metadata": {},
     "output_type": "execute_result"
    }
   ],
   "source": [
    "cons[17]"
   ]
  },
  {
   "cell_type": "code",
   "execution_count": null,
   "metadata": {},
   "outputs": [],
   "source": [
    "x=itertools.combinations_with_replacement(range(1,6), 2)\n",
    "\n",
    "for i in x:\n",
    "    get_configs_of_shape(i)"
   ]
  },
  {
   "cell_type": "code",
   "execution_count": null,
   "metadata": {},
   "outputs": [],
   "source": []
  },
  {
   "cell_type": "code",
   "execution_count": null,
   "metadata": {},
   "outputs": [],
   "source": []
  },
  {
   "cell_type": "code",
   "execution_count": 23,
   "metadata": {},
   "outputs": [
    {
     "data": {
      "text/plain": [
       "'hi2'"
      ]
     },
     "execution_count": 23,
     "metadata": {},
     "output_type": "execute_result"
    }
   ],
   "source": [
    "\"hi\"+str(2)"
   ]
  },
  {
   "cell_type": "code",
   "execution_count": 53,
   "metadata": {},
   "outputs": [],
   "source": [
    "def dist(couple):\n",
    "    x = np.array(couple)\n",
    "    return np.linalg.norm(x[0]-x[1])"
   ]
  },
  {
   "cell_type": "code",
   "execution_count": 56,
   "metadata": {},
   "outputs": [],
   "source": [
    "def get_cube(dim):\n",
    "    odds = list()\n",
    "    evens = list()\n",
    "    x = itertools.product([0,1], repeat = dim)\n",
    "    for i in x:\n",
    "        cup = np.array(i)\n",
    "        if(sum(cup) % 2):\n",
    "            odds.append(i)\n",
    "        else:\n",
    "            evens.append(i)\n",
    "    x = itertools.product(odds, evens)\n",
    "\n",
    "    mat = list()\n",
    "\n",
    "    for couple in x:\n",
    "        mat.append(dist(couple))\n",
    "    mat = np.array(mat)\n",
    "    mat = mat.reshape((pow(2,dim-1),pow(2,dim-1)))\n",
    "    mat = mat == 1\n",
    "    return mat\n"
   ]
  },
  {
   "cell_type": "code",
   "execution_count": 55,
   "metadata": {},
   "outputs": [
    {
     "name": "stdout",
     "output_type": "stream",
     "text": [
      "[[1.         1.         1.         1.73205081 1.         1.73205081\n",
      "  1.73205081 1.73205081]\n",
      " [1.         1.         1.73205081 1.         1.73205081 1.\n",
      "  1.73205081 1.73205081]\n",
      " [1.         1.73205081 1.         1.         1.73205081 1.73205081\n",
      "  1.         1.73205081]\n",
      " [1.73205081 1.         1.         1.         1.73205081 1.73205081\n",
      "  1.73205081 1.        ]\n",
      " [1.         1.73205081 1.73205081 1.73205081 1.         1.\n",
      "  1.         1.73205081]\n",
      " [1.73205081 1.         1.73205081 1.73205081 1.         1.\n",
      "  1.73205081 1.        ]\n",
      " [1.73205081 1.73205081 1.         1.73205081 1.         1.73205081\n",
      "  1.         1.        ]\n",
      " [1.73205081 1.73205081 1.73205081 1.         1.73205081 1.\n",
      "  1.         1.        ]]\n",
      "[[1 1 1 0 1 0 0 0]\n",
      " [1 1 0 1 0 1 0 0]\n",
      " [1 0 1 1 0 0 1 0]\n",
      " [0 1 1 1 0 0 0 1]\n",
      " [1 0 0 0 1 1 1 0]\n",
      " [0 1 0 0 1 1 0 1]\n",
      " [0 0 1 0 1 0 1 1]\n",
      " [0 0 0 1 0 1 1 1]]\n"
     ]
    }
   ],
   "source": [
    "print(get_cube(4)+1-1)"
   ]
  },
  {
   "cell_type": "code",
   "execution_count": 29,
   "metadata": {},
   "outputs": [],
   "source": [
    "target_figs= [1,2,3]"
   ]
  },
  {
   "cell_type": "code",
   "execution_count": null,
   "metadata": {},
   "outputs": [],
   "source": []
  }
 ],
 "metadata": {
  "kernelspec": {
   "display_name": "Python 3",
   "language": "python",
   "name": "python3"
  },
  "language_info": {
   "codemirror_mode": {
    "name": "ipython",
    "version": 3
   },
   "file_extension": ".py",
   "mimetype": "text/x-python",
   "name": "python",
   "nbconvert_exporter": "python",
   "pygments_lexer": "ipython3",
   "version": "3.6.5"
  }
 },
 "nbformat": 4,
 "nbformat_minor": 2
}
